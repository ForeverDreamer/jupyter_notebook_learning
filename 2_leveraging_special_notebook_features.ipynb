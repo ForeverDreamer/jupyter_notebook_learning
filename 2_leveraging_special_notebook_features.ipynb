{
 "cells": [
  {
   "cell_type": "markdown",
   "metadata": {},
   "source": [
    "# 1 keyboard_shortcuts"
   ]
  },
  {
   "cell_type": "code",
   "execution_count": 1,
   "metadata": {},
   "outputs": [],
   "source": [
    "import random"
   ]
  },
  {
   "cell_type": "code",
   "execution_count": 2,
   "metadata": {},
   "outputs": [
    {
     "data": {
      "text/plain": [
       "44"
      ]
     },
     "execution_count": 2,
     "metadata": {},
     "output_type": "execute_result"
    }
   ],
   "source": [
    "random.choice([x for x in range(50) if x % 2 == 0])"
   ]
  },
  {
   "cell_type": "code",
   "execution_count": 3,
   "metadata": {},
   "outputs": [],
   "source": [
    "import string"
   ]
  },
  {
   "cell_type": "code",
   "execution_count": 4,
   "metadata": {},
   "outputs": [
    {
     "data": {
      "text/plain": [
       "'abcdefghijklmnopqrstuvwxyz'"
      ]
     },
     "execution_count": 4,
     "metadata": {},
     "output_type": "execute_result"
    }
   ],
   "source": [
    "string.ascii_lowercase"
   ]
  },
  {
   "cell_type": "code",
   "execution_count": 5,
   "metadata": {},
   "outputs": [
    {
     "data": {
      "text/plain": [
       "'ABCDEFGHIJKLMNOPQRSTUVWXYZ'"
      ]
     },
     "execution_count": 5,
     "metadata": {},
     "output_type": "execute_result"
    }
   ],
   "source": [
    "string.ascii_uppercase"
   ]
  },
  {
   "cell_type": "code",
   "execution_count": 6,
   "metadata": {},
   "outputs": [
    {
     "data": {
      "text/plain": [
       "'0123456789'"
      ]
     },
     "execution_count": 6,
     "metadata": {},
     "output_type": "execute_result"
    }
   ],
   "source": [
    "string.digits"
   ]
  },
  {
   "cell_type": "code",
   "execution_count": 7,
   "metadata": {},
   "outputs": [
    {
     "data": {
      "text/plain": [
       "'!\"#$%&\\'()*+,-./:;<=>?@[\\\\]^_`{|}~'"
      ]
     },
     "execution_count": 7,
     "metadata": {},
     "output_type": "execute_result"
    }
   ],
   "source": [
    "string.punctuation"
   ]
  },
  {
   "cell_type": "code",
   "execution_count": 8,
   "metadata": {},
   "outputs": [
    {
     "data": {
      "text/plain": [
       "'abcdefghijklmnopqrstuvwxyzABCDEFGHIJKLMNOPQRSTUVWXYZ0123456789!\"#$%&\\'()*+,-./:;<=>?@[\\\\]^_`{|}~'"
      ]
     },
     "execution_count": 8,
     "metadata": {},
     "output_type": "execute_result"
    }
   ],
   "source": [
    "haystack1 = string.ascii_lowercase + string.ascii_uppercase + string.digits + string.punctuation\n",
    "haystack1"
   ]
  },
  {
   "cell_type": "code",
   "execution_count": 9,
   "metadata": {},
   "outputs": [
    {
     "data": {
      "text/plain": [
       "'abcdefghijklmnopqrstuvwxyzABCDEFGHIJKLMNOPQRSTUVWXYZ01234567890123456789012345!\"#$%&\\'()*+,-./:;<=>?@[\\\\]^'"
      ]
     },
     "execution_count": 9,
     "metadata": {},
     "output_type": "execute_result"
    }
   ],
   "source": [
    "haystack2 = string.ascii_lowercase + string.ascii_uppercase\n",
    "haystack2 += string.digits + string.digits + string.digits[:6] + string.punctuation[:26]\n",
    "haystack2"
   ]
  },
  {
   "cell_type": "code",
   "execution_count": 10,
   "metadata": {
    "scrolled": true
   },
   "outputs": [
    {
     "name": "stdout",
     "output_type": "stream",
     "text": [
      "0 1 2 3 4 5 6 7 8 9 10 11 12 13 14 15 "
     ]
    }
   ],
   "source": [
    "for _ in range(16):\n",
    "    print(_, end=' ')"
   ]
  },
  {
   "cell_type": "code",
   "execution_count": 11,
   "metadata": {},
   "outputs": [
    {
     "data": {
      "text/plain": [
       "'ijG>vAk1Z+}c`tR$'"
      ]
     },
     "execution_count": 11,
     "metadata": {},
     "output_type": "execute_result"
    }
   ],
   "source": [
    "''.join([random.choice(haystack1) for _ in range(16)])"
   ]
  },
  {
   "cell_type": "code",
   "execution_count": 12,
   "metadata": {},
   "outputs": [
    {
     "data": {
      "text/plain": [
       "'U-)/26:=-;3)^Ibi'"
      ]
     },
     "execution_count": 12,
     "metadata": {},
     "output_type": "execute_result"
    }
   ],
   "source": [
    "''.join([random.choice(haystack2) for _ in range(16)])"
   ]
  },
  {
   "cell_type": "code",
   "execution_count": 13,
   "metadata": {},
   "outputs": [],
   "source": [
    "def random_password(haystack, l=16):\n",
    "    \"\"\"This function returns a random password of length l from characters in haystack\"\"\"\n",
    "    return ''.join([random.choice(haystack) for _ in range(l)])"
   ]
  },
  {
   "cell_type": "code",
   "execution_count": 14,
   "metadata": {},
   "outputs": [
    {
     "data": {
      "text/plain": [
       "'ff627[2!(1'"
      ]
     },
     "execution_count": 14,
     "metadata": {},
     "output_type": "execute_result"
    }
   ],
   "source": [
    "random_password(haystack2, 10)"
   ]
  },
  {
   "cell_type": "code",
   "execution_count": 15,
   "metadata": {},
   "outputs": [
    {
     "data": {
      "text/plain": [
       "'iD>B5)?.cPB!QhIL'"
      ]
     },
     "execution_count": 15,
     "metadata": {},
     "output_type": "execute_result"
    }
   ],
   "source": [
    "random_password(haystack2)"
   ]
  },
  {
   "cell_type": "code",
   "execution_count": 16,
   "metadata": {},
   "outputs": [
    {
     "data": {
      "text/plain": [
       "'uP3gx-t7r)INkr>\\'Y5yv531a\"nlyvt'"
      ]
     },
     "execution_count": 16,
     "metadata": {},
     "output_type": "execute_result"
    }
   ],
   "source": [
    "random_password(haystack2, 30)"
   ]
  },
  {
   "cell_type": "markdown",
   "metadata": {},
   "source": [
    "# 2 Inline Help"
   ]
  },
  {
   "cell_type": "code",
   "execution_count": 17,
   "metadata": {},
   "outputs": [
    {
     "data": {
      "text/plain": [
       "['BPF',\n",
       " 'LOG4',\n",
       " 'NV_MAGICCONST',\n",
       " 'RECIP_BPF',\n",
       " 'Random',\n",
       " 'SG_MAGICCONST',\n",
       " 'SystemRandom',\n",
       " 'TWOPI',\n",
       " '_BuiltinMethodType',\n",
       " '_MethodType',\n",
       " '_Sequence',\n",
       " '_Set',\n",
       " '__all__',\n",
       " '__builtins__',\n",
       " '__cached__',\n",
       " '__doc__',\n",
       " '__file__',\n",
       " '__loader__',\n",
       " '__name__',\n",
       " '__package__',\n",
       " '__spec__',\n",
       " '_acos',\n",
       " '_ceil',\n",
       " '_cos',\n",
       " '_e',\n",
       " '_exp',\n",
       " '_inst',\n",
       " '_log',\n",
       " '_pi',\n",
       " '_random',\n",
       " '_sha512',\n",
       " '_sin',\n",
       " '_sqrt',\n",
       " '_test',\n",
       " '_test_generator',\n",
       " '_urandom',\n",
       " '_warn',\n",
       " 'betavariate',\n",
       " 'choice',\n",
       " 'expovariate',\n",
       " 'gammavariate',\n",
       " 'gauss',\n",
       " 'getrandbits',\n",
       " 'getstate',\n",
       " 'lognormvariate',\n",
       " 'normalvariate',\n",
       " 'paretovariate',\n",
       " 'randint',\n",
       " 'random',\n",
       " 'randrange',\n",
       " 'sample',\n",
       " 'seed',\n",
       " 'setstate',\n",
       " 'shuffle',\n",
       " 'triangular',\n",
       " 'uniform',\n",
       " 'vonmisesvariate',\n",
       " 'weibullvariate']"
      ]
     },
     "execution_count": 17,
     "metadata": {},
     "output_type": "execute_result"
    }
   ],
   "source": [
    "dir(random)"
   ]
  },
  {
   "cell_type": "code",
   "execution_count": 18,
   "metadata": {},
   "outputs": [],
   "source": [
    "random.shuffle?"
   ]
  },
  {
   "cell_type": "code",
   "execution_count": 19,
   "metadata": {},
   "outputs": [],
   "source": [
    "random.sample?"
   ]
  },
  {
   "cell_type": "code",
   "execution_count": 20,
   "metadata": {},
   "outputs": [],
   "source": [
    "random.choice?"
   ]
  },
  {
   "cell_type": "code",
   "execution_count": 21,
   "metadata": {},
   "outputs": [],
   "source": [
    "random_password?"
   ]
  },
  {
   "cell_type": "markdown",
   "metadata": {},
   "source": [
    "# 3 Magic Commands"
   ]
  },
  {
   "cell_type": "code",
   "execution_count": 22,
   "metadata": {},
   "outputs": [
    {
     "data": {
      "application/json": {
       "cell": {
        "!": "OSMagics",
        "HTML": "Other",
        "SVG": "Other",
        "bash": "Other",
        "capture": "ExecutionMagics",
        "debug": "ExecutionMagics",
        "file": "Other",
        "html": "DisplayMagics",
        "javascript": "DisplayMagics",
        "js": "DisplayMagics",
        "latex": "DisplayMagics",
        "markdown": "DisplayMagics",
        "perl": "Other",
        "prun": "ExecutionMagics",
        "pypy": "Other",
        "python": "Other",
        "python2": "Other",
        "python3": "Other",
        "ruby": "Other",
        "script": "ScriptMagics",
        "sh": "Other",
        "svg": "DisplayMagics",
        "sx": "OSMagics",
        "system": "OSMagics",
        "time": "ExecutionMagics",
        "timeit": "ExecutionMagics",
        "writefile": "OSMagics"
       },
       "line": {
        "alias": "OSMagics",
        "alias_magic": "BasicMagics",
        "autocall": "AutoMagics",
        "automagic": "AutoMagics",
        "autosave": "KernelMagics",
        "bookmark": "OSMagics",
        "cat": "Other",
        "cd": "OSMagics",
        "clear": "KernelMagics",
        "colors": "BasicMagics",
        "config": "ConfigMagics",
        "connect_info": "KernelMagics",
        "cp": "Other",
        "debug": "ExecutionMagics",
        "dhist": "OSMagics",
        "dirs": "OSMagics",
        "doctest_mode": "BasicMagics",
        "ed": "Other",
        "edit": "KernelMagics",
        "env": "OSMagics",
        "gui": "BasicMagics",
        "hist": "Other",
        "history": "HistoryMagics",
        "killbgscripts": "ScriptMagics",
        "ldir": "Other",
        "less": "KernelMagics",
        "lf": "Other",
        "lk": "Other",
        "ll": "Other",
        "load": "CodeMagics",
        "load_ext": "ExtensionMagics",
        "loadpy": "CodeMagics",
        "logoff": "LoggingMagics",
        "logon": "LoggingMagics",
        "logstart": "LoggingMagics",
        "logstate": "LoggingMagics",
        "logstop": "LoggingMagics",
        "ls": "Other",
        "lsmagic": "BasicMagics",
        "lx": "Other",
        "macro": "ExecutionMagics",
        "magic": "BasicMagics",
        "man": "KernelMagics",
        "matplotlib": "PylabMagics",
        "mkdir": "Other",
        "more": "KernelMagics",
        "mv": "Other",
        "notebook": "BasicMagics",
        "page": "BasicMagics",
        "pastebin": "CodeMagics",
        "pdb": "ExecutionMagics",
        "pdef": "NamespaceMagics",
        "pdoc": "NamespaceMagics",
        "pfile": "NamespaceMagics",
        "pinfo": "NamespaceMagics",
        "pinfo2": "NamespaceMagics",
        "pip": "BasicMagics",
        "popd": "OSMagics",
        "pprint": "BasicMagics",
        "precision": "BasicMagics",
        "profile": "BasicMagics",
        "prun": "ExecutionMagics",
        "psearch": "NamespaceMagics",
        "psource": "NamespaceMagics",
        "pushd": "OSMagics",
        "pwd": "OSMagics",
        "pycat": "OSMagics",
        "pylab": "PylabMagics",
        "qtconsole": "KernelMagics",
        "quickref": "BasicMagics",
        "recall": "HistoryMagics",
        "rehashx": "OSMagics",
        "reload_ext": "ExtensionMagics",
        "rep": "Other",
        "rerun": "HistoryMagics",
        "reset": "NamespaceMagics",
        "reset_selective": "NamespaceMagics",
        "rm": "Other",
        "rmdir": "Other",
        "run": "ExecutionMagics",
        "save": "CodeMagics",
        "sc": "OSMagics",
        "set_env": "OSMagics",
        "store": "StoreMagics",
        "sx": "OSMagics",
        "system": "OSMagics",
        "tb": "ExecutionMagics",
        "time": "ExecutionMagics",
        "timeit": "ExecutionMagics",
        "unalias": "OSMagics",
        "unload_ext": "ExtensionMagics",
        "who": "NamespaceMagics",
        "who_ls": "NamespaceMagics",
        "whos": "NamespaceMagics",
        "xdel": "NamespaceMagics",
        "xmode": "BasicMagics"
       }
      },
      "text/plain": [
       "Available line magics:\n",
       "%alias  %alias_magic  %autocall  %automagic  %autosave  %bookmark  %cat  %cd  %clear  %colors  %config  %connect_info  %cp  %debug  %dhist  %dirs  %doctest_mode  %ed  %edit  %env  %gui  %hist  %history  %killbgscripts  %ldir  %less  %lf  %lk  %ll  %load  %load_ext  %loadpy  %logoff  %logon  %logstart  %logstate  %logstop  %ls  %lsmagic  %lx  %macro  %magic  %man  %matplotlib  %mkdir  %more  %mv  %notebook  %page  %pastebin  %pdb  %pdef  %pdoc  %pfile  %pinfo  %pinfo2  %popd  %pprint  %precision  %profile  %prun  %psearch  %psource  %pushd  %pwd  %pycat  %pylab  %qtconsole  %quickref  %recall  %rehashx  %reload_ext  %rep  %rerun  %reset  %reset_selective  %rm  %rmdir  %run  %save  %sc  %set_env  %store  %sx  %system  %tb  %time  %timeit  %unalias  %unload_ext  %who  %who_ls  %whos  %xdel  %xmode\n",
       "\n",
       "Available cell magics:\n",
       "%%!  %%HTML  %%SVG  %%bash  %%capture  %%debug  %%file  %%html  %%javascript  %%js  %%latex  %%markdown  %%perl  %%prun  %%pypy  %%python  %%python2  %%python3  %%ruby  %%script  %%sh  %%svg  %%sx  %%system  %%time  %%timeit  %%writefile\n",
       "\n",
       "Automagic is ON, % prefix IS NOT needed for line magics."
      ]
     },
     "execution_count": 22,
     "metadata": {},
     "output_type": "execute_result"
    }
   ],
   "source": [
    "%lsmagic"
   ]
  },
  {
   "cell_type": "code",
   "execution_count": 23,
   "metadata": {},
   "outputs": [
    {
     "name": "stdout",
     "output_type": "stream",
     "text": [
      "Writing utils.py\n"
     ]
    }
   ],
   "source": [
    "%%writefile utils.py\n",
    "def random_password(haystack, l=16):\n",
    "    \"\"\"This function returns a random password of length l from characters in haystack\"\"\"\n",
    "    return ''.join([random.choice(haystack) for _ in range(l)])"
   ]
  },
  {
   "cell_type": "code",
   "execution_count": 24,
   "metadata": {},
   "outputs": [
    {
     "name": "stdout",
     "output_type": "stream",
     "text": [
      "leveraging_special_notebook_features.ipynb  shell_commands.ipynb  utils.py\r\n",
      "README.md\t\t\t\t    styling_cell_output\r\n"
     ]
    }
   ],
   "source": [
    "!ls"
   ]
  },
  {
   "cell_type": "code",
   "execution_count": 25,
   "metadata": {},
   "outputs": [
    {
     "name": "stdout",
     "output_type": "stream",
     "text": [
      "def random_password(haystack, l=16):\r\n",
      "    \"\"\"This function returns a random password of length l from characters in haystack\"\"\"\r\n",
      "    return ''.join([random.choice(haystack) for _ in range(l)])"
     ]
    }
   ],
   "source": [
    "!cat utils.py"
   ]
  },
  {
   "cell_type": "code",
   "execution_count": 26,
   "metadata": {},
   "outputs": [],
   "source": [
    "%%writefile?"
   ]
  },
  {
   "cell_type": "code",
   "execution_count": 27,
   "metadata": {},
   "outputs": [
    {
     "name": "stdout",
     "output_type": "stream",
     "text": [
      "   1: import random\n",
      "   2: random.choice([x for x in range(50) if x % 2 == 0])\n",
      "   3: import string\n",
      "   4: string.ascii_lowercase\n",
      "   5: string.ascii_uppercase\n",
      "   6: string.digits\n",
      "   7: string.punctuation\n",
      "   8:\n",
      "haystack1 = string.ascii_lowercase + string.ascii_uppercase + string.digits + string.punctuation\n",
      "haystack1\n",
      "   9:\n",
      "haystack2 = string.ascii_lowercase + string.ascii_uppercase\n",
      "haystack2 += string.digits + string.digits + string.digits[:6] + string.punctuation[:26]\n",
      "haystack2\n",
      "  10:\n",
      "for _ in range(16):\n",
      "    print(_, end=' ')\n",
      "  11: ''.join([random.choice(haystack1) for _ in range(16)])\n",
      "  12: ''.join([random.choice(haystack2) for _ in range(16)])\n",
      "  13:\n",
      "def random_password(haystack, l=16):\n",
      "    \"\"\"This function returns a random password of length l from characters in haystack\"\"\"\n",
      "    return ''.join([random.choice(haystack) for _ in range(l)])\n",
      "  14: random_password(haystack2, 10)\n",
      "  15: random_password(haystack2)\n",
      "  16: random_password(haystack2, 30)\n",
      "  17: dir(random)\n",
      "  18: random.shuffle?\n",
      "  19: random.sample?\n",
      "  20: random.choice?\n",
      "  21: random_password?\n",
      "  22: %lsmagic\n",
      "  23:\n",
      "%%writefile utils.py\n",
      "def random_password(haystack, l=16):\n",
      "    \"\"\"This function returns a random password of length l from characters in haystack\"\"\"\n",
      "    return ''.join([random.choice(haystack) for _ in range(l)])\n",
      "  24: !ls\n",
      "  25: !cat utils.py\n",
      "  26: %%writefile?\n",
      "  27: %history -n\n"
     ]
    }
   ],
   "source": [
    "%history -n"
   ]
  },
  {
   "cell_type": "code",
   "execution_count": 28,
   "metadata": {},
   "outputs": [
    {
     "name": "stdout",
     "output_type": "stream",
     "text": [
      "   1: import random\n",
      "   2: random.choice([x for x in range(50) if x % 2 == 0])\n",
      "44\n",
      "   3: import string\n",
      "   4: string.ascii_lowercase\n",
      "'abcdefghijklmnopqrstuvwxyz'\n",
      "   5: string.ascii_uppercase\n",
      "'ABCDEFGHIJKLMNOPQRSTUVWXYZ'\n",
      "   6: string.digits\n",
      "'0123456789'\n",
      "   7: string.punctuation\n",
      "'!\"#$%&\\'()*+,-./:;<=>?@[\\\\]^_`{|}~'\n",
      "   8:\n",
      "haystack1 = string.ascii_lowercase + string.ascii_uppercase + string.digits + string.punctuation\n",
      "haystack1\n",
      "'abcdefghijklmnopqrstuvwxyzABCDEFGHIJKLMNOPQRSTUVWXYZ0123456789!\"#$%&\\'()*+,-./:;<=>?@[\\\\]^_`{|}~'\n",
      "   9:\n",
      "haystack2 = string.ascii_lowercase + string.ascii_uppercase\n",
      "haystack2 += string.digits + string.digits + string.digits[:6] + string.punctuation[:26]\n",
      "haystack2\n",
      "'abcdefghijklmnopqrstuvwxyzABCDEFGHIJKLMNOPQRSTUVWXYZ01234567890123456789012345!\"#$%&\\'()*+,-./:;<=>?@[\\\\]^'\n",
      "  10:\n",
      "for _ in range(16):\n",
      "    print(_, end=' ')\n",
      "  11: ''.join([random.choice(haystack1) for _ in range(16)])\n",
      "'ijG>vAk1Z+}c`tR$'\n",
      "  12: ''.join([random.choice(haystack2) for _ in range(16)])\n",
      "'U-)/26:=-;3)^Ibi'\n",
      "  13:\n",
      "def random_password(haystack, l=16):\n",
      "    \"\"\"This function returns a random password of length l from characters in haystack\"\"\"\n",
      "    return ''.join([random.choice(haystack) for _ in range(l)])\n",
      "  14: random_password(haystack2, 10)\n",
      "'ff627[2!(1'\n",
      "  15: random_password(haystack2)\n",
      "'iD>B5)?.cPB!QhIL'\n",
      "  16: random_password(haystack2, 30)\n",
      "'uP3gx-t7r)INkr>\\'Y5yv531a\"nlyvt'\n",
      "  17: dir(random)\n",
      "['BPF',\n",
      " 'LOG4',\n",
      " 'NV_MAGICCONST',\n",
      " 'RECIP_BPF',\n",
      " 'Random',\n",
      " 'SG_MAGICCONST',\n",
      " 'SystemRandom',\n",
      " 'TWOPI',\n",
      " '_BuiltinMethodType',\n",
      " '_MethodType',\n",
      " '_Sequence',\n",
      " '_Set',\n",
      " '__all__',\n",
      " '__builtins__',\n",
      " '__cached__',\n",
      " '__doc__',\n",
      " '__file__',\n",
      " '__loader__',\n",
      " '__name__',\n",
      " '__package__',\n",
      " '__spec__',\n",
      " '_acos',\n",
      " '_ceil',\n",
      " '_cos',\n",
      " '_e',\n",
      " '_exp',\n",
      " '_inst',\n",
      " '_log',\n",
      " '_pi',\n",
      " '_random',\n",
      " '_sha512',\n",
      " '_sin',\n",
      " '_sqrt',\n",
      " '_test',\n",
      " '_test_generator',\n",
      " '_urandom',\n",
      " '_warn',\n",
      " 'betavariate',\n",
      " 'choice',\n",
      " 'expovariate',\n",
      " 'gammavariate',\n",
      " 'gauss',\n",
      " 'getrandbits',\n",
      " 'getstate',\n",
      " 'lognormvariate',\n",
      " 'normalvariate',\n",
      " 'paretovariate',\n",
      " 'randint',\n",
      " 'random',\n",
      " 'randrange',\n",
      " 'sample',\n",
      " 'seed',\n",
      " 'setstate',\n",
      " 'shuffle',\n",
      " 'triangular',\n",
      " 'uniform',\n",
      " 'vonmisesvariate',\n",
      " 'weibullvariate']\n",
      "  18: random.shuffle?\n",
      "  19: random.sample?\n",
      "  20: random.choice?\n",
      "  21: random_password?\n",
      "  22: %lsmagic\n",
      "Available line magics:\n",
      "%alias  %alias_magic  %autocall  %automagic  %autosave  %bookmark  %cat  %cd  %clear  %colors  %config  %connect_info  %cp  %debug  %dhist  %dirs  %doctest_mode  %ed  %edit  %env  %gui  %hist  %history  %killbgscripts  %ldir  %less  %lf  %lk  %ll  %load  %load_ext  %loadpy  %logoff  %logon  %logstart  %logstate  %logstop  %ls  %lsmagic  %lx  %macro  %magic  %man  %matplotlib  %mkdir  %more  %mv  %notebook  %page  %pastebin  %pdb  %pdef  %pdoc  %pfile  %pinfo  %pinfo2  %popd  %pprint  %precision  %profile  %prun  %psearch  %psource  %pushd  %pwd  %pycat  %pylab  %qtconsole  %quickref  %recall  %rehashx  %reload_ext  %rep  %rerun  %reset  %reset_selective  %rm  %rmdir  %run  %save  %sc  %set_env  %store  %sx  %system  %tb  %time  %timeit  %unalias  %unload_ext  %who  %who_ls  %whos  %xdel  %xmode\n",
      "\n",
      "Available cell magics:\n",
      "%%!  %%HTML  %%SVG  %%bash  %%capture  %%debug  %%file  %%html  %%javascript  %%js  %%latex  %%markdown  %%perl  %%prun  %%pypy  %%python  %%python2  %%python3  %%ruby  %%script  %%sh  %%svg  %%sx  %%system  %%time  %%timeit  %%writefile\n",
      "\n",
      "Automagic is ON, % prefix IS NOT needed for line magics.\n",
      "  23:\n",
      "%%writefile utils.py\n",
      "def random_password(haystack, l=16):\n",
      "    \"\"\"This function returns a random password of length l from characters in haystack\"\"\"\n",
      "    return ''.join([random.choice(haystack) for _ in range(l)])\n",
      "  24: !ls\n",
      "  25: !cat utils.py\n",
      "  26: %%writefile?\n",
      "  27: %history -n\n",
      "  28: %history -no\n"
     ]
    }
   ],
   "source": [
    "%history -no"
   ]
  },
  {
   "cell_type": "code",
   "execution_count": 29,
   "metadata": {},
   "outputs": [
    {
     "name": "stdout",
     "output_type": "stream",
     "text": [
      "  19: random.sample?\n",
      "  20: random.choice?\n",
      "  21: random_password?\n",
      "  22: %lsmagic\n",
      "  23:\n",
      "%%writefile utils.py\n",
      "def random_password(haystack, l=16):\n",
      "    \"\"\"This function returns a random password of length l from characters in haystack\"\"\"\n",
      "    return ''.join([random.choice(haystack) for _ in range(l)])\n",
      "  24: !ls\n",
      "  25: !cat utils.py\n",
      "  26: %%writefile?\n",
      "  27: %history -n\n",
      "  28: %history -no\n"
     ]
    }
   ],
   "source": [
    "%history -n -l 10"
   ]
  },
  {
   "cell_type": "code",
   "execution_count": 30,
   "metadata": {},
   "outputs": [],
   "source": [
    "%history -n -l 10 -f session_history.txt"
   ]
  },
  {
   "cell_type": "code",
   "execution_count": 31,
   "metadata": {},
   "outputs": [
    {
     "name": "stdout",
     "output_type": "stream",
     "text": [
      "leveraging_special_notebook_features.ipynb  shell_commands.ipynb\r\n",
      "README.md\t\t\t\t    styling_cell_output\r\n",
      "session_history.txt\t\t\t    utils.py\r\n"
     ]
    }
   ],
   "source": [
    "!ls"
   ]
  },
  {
   "cell_type": "code",
   "execution_count": 32,
   "metadata": {},
   "outputs": [
    {
     "name": "stdout",
     "output_type": "stream",
     "text": [
      "  20: random.choice?\r\n",
      "  21: random_password?\r\n",
      "  22: %lsmagic\r\n",
      "  23:\r\n",
      "%%writefile utils.py\r\n",
      "def random_password(haystack, l=16):\r\n",
      "    \"\"\"This function returns a random password of length l from characters in haystack\"\"\"\r\n",
      "    return ''.join([random.choice(haystack) for _ in range(l)])\r\n",
      "  24: !ls\r\n",
      "  25: !cat utils.py\r\n",
      "  26: %%writefile?\r\n",
      "  27: %history -n\r\n",
      "  28: %history -no\r\n",
      "  29: %history -n -l 10\r\n"
     ]
    }
   ],
   "source": [
    "!cat session_history.txt"
   ]
  },
  {
   "cell_type": "code",
   "execution_count": 33,
   "metadata": {},
   "outputs": [
    {
     "name": "stdout",
     "output_type": "stream",
     "text": [
      "Writing load_demo.py\n"
     ]
    }
   ],
   "source": [
    "%%writefile load_demo.py\n",
    "message = 'This file be loaded, but not run'\n",
    "def print_message():\n",
    "    print(message)\n",
    "\n",
    "print_message()    "
   ]
  },
  {
   "cell_type": "code",
   "execution_count": 34,
   "metadata": {},
   "outputs": [
    {
     "name": "stdout",
     "output_type": "stream",
     "text": [
      "leveraging_special_notebook_features.ipynb  session_history.txt   utils.py\r\n",
      "load_demo.py\t\t\t\t    shell_commands.ipynb\r\n",
      "README.md\t\t\t\t    styling_cell_output\r\n"
     ]
    }
   ],
   "source": [
    "!ls"
   ]
  },
  {
   "cell_type": "code",
   "execution_count": 35,
   "metadata": {},
   "outputs": [
    {
     "name": "stdout",
     "output_type": "stream",
     "text": [
      "message = 'This file be loaded, but not run'\r\n",
      "def print_message():\r\n",
      "    print(message)\r\n",
      "\r\n",
      "print_message()    "
     ]
    }
   ],
   "source": [
    "!cat load_demo.py"
   ]
  },
  {
   "cell_type": "code",
   "execution_count": 36,
   "metadata": {},
   "outputs": [
    {
     "name": "stdout",
     "output_type": "stream",
     "text": [
      "This file be loaded, but not run\n"
     ]
    }
   ],
   "source": [
    "# %load load_demo.py\n",
    "message = 'This file be loaded, but not run'\n",
    "def print_message():\n",
    "    print(message)\n",
    "\n",
    "print_message()    "
   ]
  },
  {
   "cell_type": "code",
   "execution_count": 37,
   "metadata": {},
   "outputs": [
    {
     "name": "stdout",
     "output_type": "stream",
     "text": [
      "Writing run_demo.py\n"
     ]
    }
   ],
   "source": [
    "%%writefile run_demo.py\n",
    "message = 'This file is run after it is loaded'\n",
    "def print_message():\n",
    "    print(message)\n",
    "\n",
    "print_message()  "
   ]
  },
  {
   "cell_type": "code",
   "execution_count": 38,
   "metadata": {},
   "outputs": [
    {
     "name": "stdout",
     "output_type": "stream",
     "text": [
      "This file is run after it is loaded\n"
     ]
    }
   ],
   "source": [
    "%run run_demo.py"
   ]
  },
  {
   "cell_type": "code",
   "execution_count": 39,
   "metadata": {},
   "outputs": [
    {
     "data": {
      "text/plain": [
       "'This file is run after it is loaded'"
      ]
     },
     "execution_count": 39,
     "metadata": {},
     "output_type": "execute_result"
    }
   ],
   "source": [
    "message"
   ]
  },
  {
   "cell_type": "code",
   "execution_count": 40,
   "metadata": {},
   "outputs": [],
   "source": [
    "%alias show_py_files ls -l *.py"
   ]
  },
  {
   "cell_type": "code",
   "execution_count": 41,
   "metadata": {},
   "outputs": [
    {
     "name": "stdout",
     "output_type": "stream",
     "text": [
      "-rw-rw-r--. 1 hadoop hadoop 105 Apr 10 16:42 load_demo.py\r\n",
      "-rw-rw-r--. 1 hadoop hadoop 106 Apr 10 16:42 run_demo.py\r\n",
      "-rw-rw-r--. 1 hadoop hadoop 190 Apr 10 16:41 utils.py\r\n"
     ]
    }
   ],
   "source": [
    "%show_py_files"
   ]
  },
  {
   "cell_type": "code",
   "execution_count": 42,
   "metadata": {},
   "outputs": [],
   "source": [
    "%alias filter_by_extension ls -l *.%s"
   ]
  },
  {
   "cell_type": "code",
   "execution_count": 43,
   "metadata": {},
   "outputs": [
    {
     "name": "stdout",
     "output_type": "stream",
     "text": [
      "-rw-rw-r--. 1 hadoop hadoop 387 Apr 10 16:41 session_history.txt\r\n"
     ]
    }
   ],
   "source": [
    "filter_by_extension txt"
   ]
  },
  {
   "cell_type": "code",
   "execution_count": 44,
   "metadata": {},
   "outputs": [
    {
     "name": "stdout",
     "output_type": "stream",
     "text": [
      "Total number of aliases: 14\n"
     ]
    },
    {
     "data": {
      "text/plain": [
       "[('cat', 'cat'),\n",
       " ('cp', 'cp'),\n",
       " ('filter_by_extension', 'ls -l *.%s'),\n",
       " ('ldir', 'ls -F -o --color %l | grep /$'),\n",
       " ('lf', 'ls -F -o --color %l | grep ^-'),\n",
       " ('lk', 'ls -F -o --color %l | grep ^l'),\n",
       " ('ll', 'ls -F -o --color'),\n",
       " ('ls', 'ls -F --color'),\n",
       " ('lx', 'ls -F -o --color %l | grep ^-..x'),\n",
       " ('mkdir', 'mkdir'),\n",
       " ('mv', 'mv'),\n",
       " ('rm', 'rm'),\n",
       " ('rmdir', 'rmdir'),\n",
       " ('show_py_files', 'ls -l *.py')]"
      ]
     },
     "execution_count": 44,
     "metadata": {},
     "output_type": "execute_result"
    }
   ],
   "source": [
    "%alias"
   ]
  },
  {
   "cell_type": "code",
   "execution_count": 45,
   "metadata": {},
   "outputs": [
    {
     "name": "stdout",
     "output_type": "stream",
     "text": [
      "Once deleted, variables cannot be recovered. Proceed (y/[n])? y\n"
     ]
    }
   ],
   "source": [
    "%reset"
   ]
  },
  {
   "cell_type": "code",
   "execution_count": 46,
   "metadata": {},
   "outputs": [
    {
     "name": "stdout",
     "output_type": "stream",
     "text": [
      "Total number of aliases: 12\n"
     ]
    },
    {
     "data": {
      "text/plain": [
       "[('cat', 'cat'),\n",
       " ('cp', 'cp'),\n",
       " ('ldir', 'ls -F -o --color %l | grep /$'),\n",
       " ('lf', 'ls -F -o --color %l | grep ^-'),\n",
       " ('lk', 'ls -F -o --color %l | grep ^l'),\n",
       " ('ll', 'ls -F -o --color'),\n",
       " ('ls', 'ls -F --color'),\n",
       " ('lx', 'ls -F -o --color %l | grep ^-..x'),\n",
       " ('mkdir', 'mkdir'),\n",
       " ('mv', 'mv'),\n",
       " ('rm', 'rm'),\n",
       " ('rmdir', 'rmdir')]"
      ]
     },
     "execution_count": 46,
     "metadata": {},
     "output_type": "execute_result"
    }
   ],
   "source": [
    "%alias"
   ]
  },
  {
   "cell_type": "code",
   "execution_count": 47,
   "metadata": {},
   "outputs": [
    {
     "name": "stderr",
     "output_type": "stream",
     "text": [
      "UsageError: Line magic function `%show_py_files` not found.\n"
     ]
    }
   ],
   "source": [
    "%show_py_files"
   ]
  },
  {
   "cell_type": "code",
   "execution_count": 48,
   "metadata": {},
   "outputs": [
    {
     "name": "stderr",
     "output_type": "stream",
     "text": [
      "UsageError: Line magic function `%filter_by_extension` not found.\n"
     ]
    }
   ],
   "source": [
    "%filter_by_extension txt"
   ]
  },
  {
   "cell_type": "code",
   "execution_count": null,
   "metadata": {},
   "outputs": [],
   "source": []
  }
 ],
 "metadata": {
  "kernelspec": {
   "display_name": "Python (python_tarena)",
   "language": "python",
   "name": "python_tarena"
  },
  "language_info": {
   "codemirror_mode": {
    "name": "ipython",
    "version": 3
   },
   "file_extension": ".py",
   "mimetype": "text/x-python",
   "name": "python",
   "nbconvert_exporter": "python",
   "pygments_lexer": "ipython3",
   "version": "3.5.6"
  }
 },
 "nbformat": 4,
 "nbformat_minor": 2
}
